{
 "cells": [
  {
   "cell_type": "markdown",
   "id": "bc87a46c",
   "metadata": {},
   "source": [
    "# Tâche 5"
   ]
  },
  {
   "cell_type": "code",
   "execution_count": 90,
   "id": "8576886f",
   "metadata": {},
   "outputs": [],
   "source": [
    "#import \n",
    "import numpy as np\n",
    "from mp_api.client import MPRester\n",
    "from pymatgen.core.operations import SymmOp\n",
    "from pymatgen.symmetry.analyzer import SpacegroupAnalyzer\n",
    "from jupyter_jsmol.pymatgen import quick_view,JsmolView\n",
    "from lmapr1492 import plot_brillouin_zone, get_plot_bs, get_plot_dos, get_plot_bs_and_dos, get_branch_wavevectors\n",
    "from plotly.subplots import make_subplots\n",
    "import plotly.graph_objects as go\n",
    "from IPython.display import Image\n",
    "from ipywidgets import Layout, widgets, interact\n",
    "import matplotlib.pyplot as plt\n",
    "\n",
    "\n",
    "\n"
   ]
  },
  {
   "cell_type": "code",
   "execution_count": 91,
   "id": "4ce8ba2a",
   "metadata": {},
   "outputs": [],
   "source": [
    "mp_key = \"0xG7dCsc4AADF0PgqeiDeWIJa0gtg1Pd\"\n",
    "mp_id = \"mp-9166\""
   ]
  },
  {
   "cell_type": "code",
   "execution_count": 92,
   "id": "ae0be267",
   "metadata": {},
   "outputs": [
    {
     "data": {
      "application/vnd.jupyter.widget-view+json": {
       "model_id": "03aa60862b8048e79c3bffb6075980ba",
       "version_major": 2,
       "version_minor": 0
      },
      "text/plain": [
       "Retrieving MaterialsDoc documents:   0%|          | 0/1 [00:00<?, ?it/s]"
      ]
     },
     "metadata": {},
     "output_type": "display_data"
    }
   ],
   "source": [
    "with MPRester(mp_key) as m:\n",
    "    struct = m.get_structure_by_material_id(mp_id)\n",
    "    \n",
    "conv_struct = SpacegroupAnalyzer(struct).get_conventional_standard_structure()\n",
    "\n",
    "symmops = SpacegroupAnalyzer(conv_struct).get_space_group_operations()\n"
   ]
  },
  {
   "cell_type": "markdown",
   "id": "083f5526",
   "metadata": {},
   "source": [
    "# Data \n"
   ]
  },
  {
   "cell_type": "code",
   "execution_count": 93,
   "id": "10e5179b",
   "metadata": {},
   "outputs": [],
   "source": [
    "#indice des atomes du réseau : \n",
    "\n",
    "Mg_atom = []\n",
    "C_atom = []\n",
    "N_atom = []\n",
    "\n",
    "for i  in range (len(conv_struct.sites)): \n",
    "    if (conv_struct.sites[i].label == 'Mg'): \n",
    "        Mg_atom.append(i)\n",
    "    elif (conv_struct.sites[i].label == 'N'): \n",
    "        N_atom.append(i)\n",
    "    else : \n",
    "        C_atom.append(i)\n"
   ]
  },
  {
   "cell_type": "markdown",
   "id": "718dcdd7",
   "metadata": {},
   "source": [
    "# 1)  Première opération"
   ]
  },
  {
   "cell_type": "markdown",
   "id": "1a29035e",
   "metadata": {},
   "source": [
    "Nous avons choisi pour cette première opération de manière aléatoire un atome de magnésium du réseau. On observe que pour cette première opération, notre vecteur de translation $\\tau$ nul. Cela signifie qu'il n'y a pas de translation associée à l'opération. L'opération est dès lors purement rotationnelle. Par ailleurs, en calculant le detérminant de la matrice rot, nous avons que celui-ci vaut 1, ce qui implique que l'opération conserve la chiralité de la molécule. L'axe de rotation associé à cette opération de symétrie est l'axe z : \\begin{bmatrix} 0 & 0 & 1 \\end{bmatrix} \n",
    "\n",
    "Enfin, en observant la matrice rot, on remarque que l'opération de symétrie inverse les coordonnées selon Z et échange les coordonnées selon X et Y.\n",
    "\n",
    " "
   ]
  },
  {
   "cell_type": "code",
   "execution_count": 94,
   "id": "8e1dfda8",
   "metadata": {},
   "outputs": [
    {
     "name": "stdout",
     "output_type": "stream",
     "text": [
      "Opérateur de symétrie :\n",
      " Rot:\n",
      "[[ 0.  1.  0.]\n",
      " [ 1.  0.  0.]\n",
      " [ 0.  0. -1.]]\n",
      "tau\n",
      "[0. 0. 0.]\n",
      "\n"
     ]
    }
   ],
   "source": [
    "i_symmop = 7\n",
    "#indice random d'un atome de Magnesium du réseau : \n",
    "i_atom = np.random.choice(Mg_atom)+1\n",
    "symmop = symmops[i_symmop-1] \n",
    "print(f\"Opérateur de symétrie :\\n {symmop}\\n\")"
   ]
  },
  {
   "cell_type": "code",
   "execution_count": 95,
   "id": "2ce4165a",
   "metadata": {},
   "outputs": [
    {
     "name": "stdout",
     "output_type": "stream",
     "text": [
      "1er opération de symétrie (inversion): \n",
      "\n",
      " Position de l'atome de départ de Mg :\n",
      "  [0.33333333 0.66666667 0.66666667]\n",
      " Position de l'atome de Mg après opération de symétrie:\n",
      " [ 0.66666667  0.33333333 -0.66666667] \n"
     ]
    }
   ],
   "source": [
    "pos_init = conv_struct.sites[i_atom-1].frac_coords\n",
    "pos_final = symmop.operate(pos_init)\n",
    "##affichage :  \n",
    "print(\"1er opération de symétrie (inversion): \\n\")\n",
    "print(f\" Position de l'atome de départ de {conv_struct.sites[i_atom-1].label} :\\n  {pos_init}\\n Position de l'atome de {conv_struct.sites[i_atom-1].label} après opération de symétrie:\\n {pos_final} \")"
   ]
  },
  {
   "cell_type": "code",
   "execution_count": 98,
   "id": "aec983ab",
   "metadata": {},
   "outputs": [
    {
     "data": {
      "application/vnd.jupyter.widget-view+json": {
       "model_id": "15344e088e97401a88b684b1c3f46984",
       "version_major": 2,
       "version_minor": 0
      },
      "text/plain": [
       "JsmolView(layout=Layout(align_self='stretch', height='400px'))"
      ]
     },
     "metadata": {},
     "output_type": "display_data"
    }
   ],
   "source": [
    "view = quick_view(conv_struct,\"packed\",conventional = True)\n",
    "\n",
    "display(view)"
   ]
  },
  {
   "cell_type": "code",
   "execution_count": 99,
   "id": "35d6427f",
   "metadata": {},
   "outputs": [],
   "source": [
    "view.script('select Magnesium; color green')\n",
    "view.script('select Nitrogen; color gray')\n",
    "view.script('select Carbon; color blue')\n",
    "view.script('draw SYMOP ' + str(i_symmop) + ' {atomno = ' + str(i_atom) + '}')\n",
    "view.script(f\"select atomno={i_atom}; color red\")\n",
    "\n",
    "# Changer le fond en blanc\n",
    "view.script(\"background white\")\n",
    "\n"
   ]
  },
  {
   "cell_type": "markdown",
   "id": "ff2e2b96",
   "metadata": {},
   "source": [
    "# 2) Deuxième opération\n"
   ]
  },
  {
   "cell_type": "markdown",
   "id": "9df93c22",
   "metadata": {},
   "source": [
    "Nous avons décidé d'appliquer ce deuxième opérateur de symétrie sur un atome choisi au hasard de Carbone. Le vecteur de translation $\\tau$ est toujours nul, ce qui signifie qu'il n'y a toujours pas de translation associé à l'opération. Le déterminant de la matrice rot est quant à lui égale à -1. Cela signifie qu'il s'agit d'un opérateur d'inversion. C'est une opération de deuxième espèce et celle-ci inverse la chiralité de la molécule. En analysant la matrice rot, on observe que chaque coordonnée est inversé par rapport à l'orgine."
   ]
  },
  {
   "cell_type": "code",
   "execution_count": 100,
   "id": "aad2eafa",
   "metadata": {},
   "outputs": [
    {
     "name": "stdout",
     "output_type": "stream",
     "text": [
      "Opérateur de symétrie :\n",
      " Rot:\n",
      "[[-1.  0.  0.]\n",
      " [ 0. -1.  0.]\n",
      " [ 0.  0. -1.]]\n",
      "tau\n",
      "[0. 0. 0.]\n",
      "\n"
     ]
    }
   ],
   "source": [
    "#indice random d'un atome de Carbone du réseau : \n",
    "i_atom = np.random.choice(C_atom)+1\n",
    "i_symmop = 2\n",
    "symmop = symmops[i_symmop-1] \n",
    "print(f\"Opérateur de symétrie :\\n {symmop}\\n\")"
   ]
  },
  {
   "cell_type": "code",
   "execution_count": 101,
   "id": "c87a089e",
   "metadata": {},
   "outputs": [
    {
     "name": "stdout",
     "output_type": "stream",
     "text": [
      "1er opération de symétrie (inversion): \n",
      "\n",
      " Position de l'atome de départ de C :\n",
      "  [0.33333333 0.66666667 0.16666667]\n",
      " Position de l'atome de C après opération de symétrie:\n",
      " [-0.33333333 -0.66666667 -0.16666667] \n"
     ]
    }
   ],
   "source": [
    "pos_init = conv_struct.sites[i_atom-1].frac_coords\n",
    "pos_final = symmop.operate(pos_init)\n",
    "##affichage :  \n",
    "print(\"1er opération de symétrie (inversion): \\n\")\n",
    "print(f\" Position de l'atome de départ de {conv_struct.sites[i_atom-1].label} :\\n  {pos_init}\\n Position de l'atome de {conv_struct.sites[i_atom-1].label} après opération de symétrie:\\n {pos_final} \")"
   ]
  },
  {
   "cell_type": "code",
   "execution_count": 102,
   "id": "e8b6577e",
   "metadata": {},
   "outputs": [
    {
     "data": {
      "application/vnd.jupyter.widget-view+json": {
       "model_id": "96dadfc8fb1e4811a13d9a219b13f309",
       "version_major": 2,
       "version_minor": 0
      },
      "text/plain": [
       "JsmolView(layout=Layout(align_self='stretch', height='400px'))"
      ]
     },
     "metadata": {},
     "output_type": "display_data"
    }
   ],
   "source": [
    "view1 = quick_view(conv_struct,\"packed\",conventional = True)\n",
    "\n",
    "display(view1)"
   ]
  },
  {
   "cell_type": "code",
   "execution_count": 103,
   "id": "3b24aa4f",
   "metadata": {},
   "outputs": [],
   "source": [
    "view1.script('select Magnesium; color green')\n",
    "view1.script('select Nitrogen; color gray')\n",
    "view1.script('select Carbon; color blue')\n",
    "view1.script('draw SYMOP ' + str(i_symmop) + ' {atomno = ' + str(i_atom) + '}')\n",
    "view1.script(f\"select atomno={i_atom}; color red\")\n",
    "\n",
    "view1.script(\"background white\")"
   ]
  },
  {
   "cell_type": "markdown",
   "id": "0cdead8f",
   "metadata": {},
   "source": [
    "# 3) Troisième opération"
   ]
  },
  {
   "cell_type": "markdown",
   "id": "0ce2be2c",
   "metadata": {},
   "source": [
    "Enfin, concernant le troisème opérateur, on l'a appliqué à un atome d'azote du réseau. On observe toujours qu'il n'y a pas de translation associé à l'opération. Le déterminant associé à la matrice rot est égale 1 donc l'opérateur conserve la chiralité. "
   ]
  },
  {
   "cell_type": "code",
   "execution_count": 104,
   "id": "581c4e26",
   "metadata": {},
   "outputs": [
    {
     "name": "stdout",
     "output_type": "stream",
     "text": [
      "Opérateur de symétrie :\n",
      " Rot:\n",
      "[[-1.  1.  0.]\n",
      " [-1.  0.  0.]\n",
      " [ 0.  0.  1.]]\n",
      "tau\n",
      "[0. 0. 0.]\n",
      "\n"
     ]
    }
   ],
   "source": [
    "i_symmop = 5\n",
    "#indice random d'un atome d'azote du réseau : \n",
    "i_atom = np.random.choice(N_atom)+1\n",
    "symmop = symmops[i_symmop-1] \n",
    "print(f\"Opérateur de symétrie :\\n {symmop}\\n\")"
   ]
  },
  {
   "cell_type": "code",
   "execution_count": 105,
   "id": "f70b0565",
   "metadata": {},
   "outputs": [
    {
     "name": "stdout",
     "output_type": "stream",
     "text": [
      "1er opération de symétrie (inversion): \n",
      "\n",
      " Position de l'atome de départ de N :\n",
      "  [0.66666667 0.33333333 0.91993065]\n",
      " Position de l'atome de N après opération de symétrie:\n",
      " [-0.33333333 -0.66666667  0.91993065] \n"
     ]
    }
   ],
   "source": [
    "pos_init = conv_struct.sites[i_atom-1].frac_coords\n",
    "pos_final = symmop.operate(pos_init)\n",
    "##affichage :  \n",
    "print(\"1er opération de symétrie (inversion): \\n\")\n",
    "print(f\" Position de l'atome de départ de {conv_struct.sites[i_atom-1].label} :\\n  {pos_init}\\n Position de l'atome de {conv_struct.sites[i_atom-1].label} après opération de symétrie:\\n {pos_final} \")"
   ]
  },
  {
   "cell_type": "code",
   "execution_count": 106,
   "id": "4b0d7881",
   "metadata": {},
   "outputs": [
    {
     "data": {
      "application/vnd.jupyter.widget-view+json": {
       "model_id": "0264f59081054b50b8e07981a3c7d7bc",
       "version_major": 2,
       "version_minor": 0
      },
      "text/plain": [
       "JsmolView(layout=Layout(align_self='stretch', height='400px'))"
      ]
     },
     "metadata": {},
     "output_type": "display_data"
    }
   ],
   "source": [
    "view2 = quick_view(conv_struct,\"packed\",conventional = True)\n",
    "\n",
    "display(view2)"
   ]
  },
  {
   "cell_type": "code",
   "execution_count": 107,
   "id": "b41d3c52",
   "metadata": {},
   "outputs": [],
   "source": [
    "view2.script('select Magnesium; color green')\n",
    "view2.script('select Nitrogen; color gray')\n",
    "view2.script('select Carbon; color blue')\n",
    "view2.script('draw SYMOP ' + str(i_symmop) + ' {atomno = ' + str(i_atom) + '}')\n",
    "view2.script(f\"select atomno={i_atom}; color red\")\n",
    "\n",
    "view2.script(\"background white\")"
   ]
  },
  {
   "cell_type": "code",
   "execution_count": null,
   "id": "e5eac61d",
   "metadata": {},
   "outputs": [],
   "source": []
  }
 ],
 "metadata": {
  "kernelspec": {
   "display_name": "Python 3 (ipykernel)",
   "language": "python",
   "name": "python3"
  },
  "language_info": {
   "codemirror_mode": {
    "name": "ipython",
    "version": 3
   },
   "file_extension": ".py",
   "mimetype": "text/x-python",
   "name": "python",
   "nbconvert_exporter": "python",
   "pygments_lexer": "ipython3",
   "version": "3.9.13"
  }
 },
 "nbformat": 4,
 "nbformat_minor": 5
}
