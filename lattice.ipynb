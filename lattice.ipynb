{
 "cells": [
  {
   "cell_type": "markdown",
   "id": "c4bcaba5",
   "metadata": {},
   "source": [
    "# Tâche 4"
   ]
  },
  {
   "cell_type": "code",
   "execution_count": 82,
   "id": "470164a5",
   "metadata": {},
   "outputs": [],
   "source": [
    "import numpy as np\n",
    "from mp_api.client import MPRester\n",
    "from pymatgen.core.operations import SymmOp\n",
    "from pymatgen.symmetry.analyzer import SpacegroupAnalyzer\n",
    "from jupyter_jsmol.pymatgen import quick_view\n",
    "from lmapr1492 import plot_brillouin_zone, get_plot_bs, get_plot_dos, get_plot_bs_and_dos, get_branch_wavevectors\n",
    "from plotly.subplots import make_subplots\n",
    "import plotly.graph_objects as go\n",
    "from IPython.display import Image"
   ]
  },
  {
   "cell_type": "code",
   "execution_count": 83,
   "id": "77d0060a",
   "metadata": {},
   "outputs": [],
   "source": [
    "mp_key = \"0xG7dCsc4AADF0PgqeiDeWIJa0gtg1Pd\"\n",
    "mp_id = \"mp-9166\""
   ]
  },
  {
   "cell_type": "code",
   "execution_count": 84,
   "id": "58e37bc0",
   "metadata": {
    "scrolled": true
   },
   "outputs": [
    {
     "data": {
      "application/vnd.jupyter.widget-view+json": {
       "model_id": "bcce58b3abaa4d5bb7e8bc093aa282eb",
       "version_major": 2,
       "version_minor": 0
      },
      "text/plain": [
       "Retrieving MaterialsDoc documents:   0%|          | 0/1 [00:00<?, ?it/s]"
      ]
     },
     "metadata": {},
     "output_type": "display_data"
    }
   ],
   "source": [
    "with MPRester(mp_key) as m:\n",
    "    struct = m.get_structure_by_material_id(mp_id)\n",
    "prim_struct = SpacegroupAnalyzer(struct).get_primitive_standard_structure()"
   ]
  },
  {
   "cell_type": "markdown",
   "id": "30fdc332",
   "metadata": {},
   "source": [
    "# 1) Réseau direct"
   ]
  },
  {
   "cell_type": "markdown",
   "id": "503efb3b",
   "metadata": {},
   "source": [
    "Afin d'obtenir les vecteurs de base du réseau, nous avons utilisé la maille primitive. La cellule unité ou maille primitive est défini comme étant la plus petit partie du réseau permettant de recomposer ce-dernier entièrement. Les vecteurs de base du réseau sont donc les vecteurs fondamentaux qui définissent la répétition périodique de la structure. Ils permettent de générer l’ensemble des nœuds du réseau par translation.\n"
   ]
  },
  {
   "cell_type": "code",
   "execution_count": 95,
   "id": "d363ec02",
   "metadata": {},
   "outputs": [
    {
     "name": "stdout",
     "output_type": "stream",
     "text": [
      "Vecteurs de base du réseau direct:\n",
      "\n",
      "a = [ 4.80866755 -1.63004458  0.        ]\n",
      "b = [4.80866755 1.63004458 0.        ]\n",
      "c = [4.25611421 0.         2.76872187]\n",
      "\n",
      "Paramètres de maille du réseau direct:\n",
      " \n",
      "||a|| = 5.0774 Å\n",
      "||b|| = 5.0774 Å\n",
      "||c|| = 5.0774 Å\n",
      "α = 37.451°\n",
      "β = 37.451°\n",
      "γ = 37.451°\n"
     ]
    }
   ],
   "source": [
    "R_direct = prim_struct.lattice\n",
    "## vecteurs de base : \n",
    "A,B,C= np.array(R_direct.matrix)\n",
    "print(\"Vecteurs de base du réseau direct:\\n\")\n",
    "print(f\"a = {A}\")\n",
    "print(f\"b = {B}\")\n",
    "print(f\"c = {C}\\n\")\n",
    "## longueurs des vecteurs de base:\n",
    "a,b,c = R_direct.abc\n",
    "## paramètres de maille : \n",
    "print(\"Paramètres de maille du réseau direct:\\n \")\n",
    "print(f\"||a|| = {round(a,4)} Å\")\n",
    "print(f\"||b|| = {round(b,4)} Å\")\n",
    "print(f\"||c|| = {round(c,4)} Å\")\n",
    "print(f\"α = {round(R_direct.alpha,3)}°\")\n",
    "print(f\"β = {round(R_direct.beta,3)}°\")\n",
    "print(f\"γ = {round(R_direct.gamma,3)}°\")\n",
    "\n",
    "\n",
    "\n",
    "\n",
    "\n",
    "\n"
   ]
  },
  {
   "cell_type": "markdown",
   "id": "e7393a85",
   "metadata": {},
   "source": [
    "# 2) Réseau réciproque"
   ]
  },
  {
   "cell_type": "markdown",
   "id": "7b2950d0",
   "metadata": {},
   "source": [
    "Le réseau réciproque est défini de manière à représenter les propriétés de diffraction des cristaux. Il s'agit de l'ensemble de tous les vecteurs K qui vérifient la relation suivante : $$e^{i \\mathbf{K} \\cdot \\mathbf{R}} = 1  $$ \n",
    "où R est le vecteur position du réseau.\n",
    "\n",
    "Les paramètres de maille et les vecteurs de bases du réseau peuvent être obtenus à l'aide des formules ci-dessous.\n",
    "\n",
    "\n"
   ]
  },
  {
   "cell_type": "code",
   "execution_count": 87,
   "id": "a89ebd1a",
   "metadata": {},
   "outputs": [
    {
     "name": "stdout",
     "output_type": "stream",
     "text": [
      "Vecteurs de base du réseau réciproque:\n",
      "\n",
      "a' = [ 0.65331875 -1.92730475 -1.00428982]\n",
      "b' = [ 0.65331875  1.92730475 -1.00428982]\n",
      "c' = [-0.          0.          2.26934506]\n",
      "\n",
      "Paramètres de maille du réseau réciproque:\n",
      " \n",
      "||a'|| = 2.2693 Å⁻¹\n",
      "||b'|| = 2.2693 Å⁻¹\n",
      "||c'|| = 2.2693 Å⁻¹\n",
      "α = 116.266°\n",
      "β = 116.266°\n",
      "γ = 116.266°\n"
     ]
    }
   ],
   "source": [
    "\n",
    "volume = np.dot(A,np.cross(B,C))\n",
    "a_prime = (2*np.pi/volume)*np.cross(B,C)\n",
    "b_prime = (2*np.pi/volume)* np.cross(C,A)\n",
    "c_prime = (2*np.pi/volume)* np.cross(A,B)\n",
    " \n",
    "\n",
    "print(\"Vecteurs de base du réseau réciproque:\\n\")\n",
    "print(f\"a' = {a_prime}\")\n",
    "print(f\"b' = {b_prime}\")\n",
    "print(f\"c' = {c_prime}\\n\")\n",
    "## paramètres de maille : \n",
    "print(\"Paramètres de maille du réseau réciproque:\\n \")\n",
    "print(f\"||a'|| = {round(np.sqrt(np.dot(a_prime,a_prime)),4)} Å⁻¹\")\n",
    "print(f\"||b'|| = {round(np.sqrt(np.dot(b_prime,b_prime)),4)} Å⁻¹\")\n",
    "print(f\"||c'|| = {round(np.sqrt(np.dot(c_prime,c_prime)),4)} Å⁻¹\")\n",
    "\n",
    "## angles obtenus d'une autre manière: \n",
    "\n",
    "R_reci = prim_struct.lattice.reciprocal_lattice\n",
    "print(f\"α = {round(R_reci.alpha,3)}°\")\n",
    "print(f\"β = {round(R_reci.beta,3)}°\")\n",
    "print(f\"γ = {round(R_reci.gamma,3)}°\")\n",
    "\n"
   ]
  },
  {
   "cell_type": "markdown",
   "id": "a0a6405d",
   "metadata": {},
   "source": [
    "# 3) Sytème cristallin"
   ]
  },
  {
   "cell_type": "code",
   "execution_count": 93,
   "id": "c7eaeb7d",
   "metadata": {},
   "outputs": [
    {
     "name": "stdout",
     "output_type": "stream",
     "text": [
      "Système cristallin : trigonal\n"
     ]
    }
   ],
   "source": [
    "s = SpacegroupAnalyzer(struct).get_crystal_system() \n",
    "print(\"Système cristallin :\", s)\n",
    "\n"
   ]
  },
  {
   "cell_type": "markdown",
   "id": "27f1d4be",
   "metadata": {},
   "source": [
    "# 4) Type de maille\n"
   ]
  },
  {
   "cell_type": "code",
   "execution_count": 90,
   "id": "8619adc7",
   "metadata": {
    "scrolled": true
   },
   "outputs": [
    {
     "name": "stdout",
     "output_type": "stream",
     "text": [
      "Type de maille : rhombohedral\n"
     ]
    }
   ],
   "source": [
    "t = SpacegroupAnalyzer(struct).get_lattice_type()\n",
    "print(\"Type de maille :\", t)\n"
   ]
  },
  {
   "cell_type": "markdown",
   "id": "9bbac263",
   "metadata": {},
   "source": [
    "# 5) groupe ponctuel"
   ]
  },
  {
   "cell_type": "markdown",
   "id": "f30a7a15",
   "metadata": {},
   "source": [
    "En cristallographie, l'ensemble des opérations ponctuelles de symétie associées à un cristal forme au sens mathématique un groupe G. Celui-ci est muni de plusieurs propriétés : \n",
    "1) Le groupe est muni d’une loi de composition interne: ∀X,Y ∈ 𝒢 : Z = X Y ∈ 𝒢 \n",
    "2) La loi de composition interne est associative: ∀X,Y,Z ∈ 𝒢 : (X Y ) Z = X (Y Z ) \n",
    "3) Il existe un élément neutre (l’identité E): ∀X ∈ 𝒢 : X E = E X = X \n",
    "4) Pour tout élément du groupe, il existe un élément inverse: ∀X ∈ 𝒢  ∃ X-1 ∈ 𝒢  tel que X X-1 = X-1 X = E\n",
    "\n",
    "En 2D, il existe 10 groupes ponctuels différents et en 3D, il en existe 32 différents.\n"
   ]
  },
  {
   "cell_type": "code",
   "execution_count": 94,
   "id": "d1e85ab4",
   "metadata": {},
   "outputs": [
    {
     "name": "stdout",
     "output_type": "stream",
     "text": [
      "Groupe ponctuel 3D : -3m\n"
     ]
    }
   ],
   "source": [
    "\n",
    "g = SpacegroupAnalyzer(struct).get_point_group_symbol()\n",
    "print(\"Groupe ponctuel 3D :\", g)"
   ]
  },
  {
   "cell_type": "code",
   "execution_count": null,
   "id": "513bb955",
   "metadata": {},
   "outputs": [],
   "source": []
  }
 ],
 "metadata": {
  "kernelspec": {
   "display_name": "Python 3 (ipykernel)",
   "language": "python",
   "name": "python3"
  },
  "language_info": {
   "codemirror_mode": {
    "name": "ipython",
    "version": 3
   },
   "file_extension": ".py",
   "mimetype": "text/x-python",
   "name": "python",
   "nbconvert_exporter": "python",
   "pygments_lexer": "ipython3",
   "version": "3.9.13"
  }
 },
 "nbformat": 4,
 "nbformat_minor": 5
}
