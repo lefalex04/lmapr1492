{
 "cells": [
  {
   "cell_type": "markdown",
   "id": "ad6c22ab",
   "metadata": {},
   "source": [
    "# Tache 6"
   ]
  },
  {
   "cell_type": "code",
   "execution_count": 14,
   "id": "5e687767",
   "metadata": {},
   "outputs": [],
   "source": [
    "#import \n",
    "import numpy as np\n",
    "from mp_api.client import MPRester\n",
    "from pymatgen.analysis.diffraction.xrd import XRDCalculator"
   ]
  },
  {
   "cell_type": "code",
   "execution_count": 15,
   "id": "0276f58b",
   "metadata": {},
   "outputs": [],
   "source": [
    "mp_key = \"0xG7dCsc4AADF0PgqeiDeWIJa0gtg1Pd\"\n",
    "mp_id = \"mp-9166\""
   ]
  },
  {
   "cell_type": "code",
   "execution_count": 16,
   "id": "520996e6",
   "metadata": {},
   "outputs": [
    {
     "data": {
      "application/vnd.jupyter.widget-view+json": {
       "model_id": "85512b894252422ebdf53d11410a23c8",
       "version_major": 2,
       "version_minor": 0
      },
      "text/plain": [
       "Retrieving MaterialsDoc documents:   0%|          | 0/1 [00:00<?, ?it/s]"
      ]
     },
     "metadata": {},
     "output_type": "display_data"
    }
   ],
   "source": [
    "with MPRester(mp_key) as m:\n",
    "    struct = m.get_structure_by_material_id(mp_id)\n",
    "    \n",
    "conv_struct = SpacegroupAnalyzer(struct).get_conventional_standard_structure()\n",
    "\n",
    "symmops = SpacegroupAnalyzer(conv_struct).get_space_group_operations()"
   ]
  },
  {
   "cell_type": "markdown",
   "id": "dc9e9476",
   "metadata": {},
   "source": [
    "# 1) "
   ]
  },
  {
   "cell_type": "code",
   "execution_count": 17,
   "id": "33d99bdc",
   "metadata": {},
   "outputs": [],
   "source": [
    "# un rayonnement X incident Cu Kα de longueur d’onde λ=1.54060 Å\n",
    "\n",
    "xrd = XRDCalculator(1.54060)\n",
    "\n",
    "pattern = xrd.get_pattern(struct)"
   ]
  },
  {
   "cell_type": "code",
   "execution_count": 67,
   "id": "287afc6e",
   "metadata": {},
   "outputs": [],
   "source": [
    "## stack des values afin de pouvoir réutiliser facilement le code pour plusieurs pics différents ou des pics plus lointains \n",
    "i_start = 1 ; \n",
    "i_end = 3\n",
    "lst_angle= {}\n",
    "lst_intensity = {}\n",
    "lst_plan_de_miller = {}\n",
    "for i in range (i_start,i_end+1): \n",
    "    lst_angle[str(i)] = pattern.x[i-1]\n",
    "    lst_intensity[str(i)] = pattern.y[i-1]\n",
    "    lst_plan_de_miller[str(i)] = pattern.hkls[i-1]\n",
    "    "
   ]
  },
  {
   "cell_type": "code",
   "execution_count": 68,
   "id": "398d9e5d",
   "metadata": {},
   "outputs": [
    {
     "name": "stdout",
     "output_type": "stream",
     "text": [
      " 1e pic du diffractogramme : \n",
      "----------------------------\n",
      " angle du 1e pic = 18.802651525295552\n",
      " intensité du 1e pic = 15.140540975255556\n",
      " indices hkl associés au 1e pic = (1, 1, 1) de multiplicité : 2 \n",
      "\n",
      "\n",
      " 2e pic du diffractogramme : \n",
      "----------------------------\n",
      " angle du 2e pic = 32.307398527457984\n",
      " intensité du 2e pic = 3.9296895003314964\n",
      " indices hkl associés au 2e pic = (1, 0, 0) de multiplicité : 6 \n",
      "\n",
      "\n",
      " 3e pic du diffractogramme : \n",
      "----------------------------\n",
      " angle du 3e pic = 34.16699055588982\n",
      " intensité du 3e pic = 100.0\n",
      " indices hkl associés au 3e pic = (1, 1, 0) de multiplicité : 6 \n",
      "\n",
      "\n"
     ]
    }
   ],
   "source": [
    "##output : détermination des 3 premiers pics du diffractogramme\n",
    "for i in range (i_start,i_end+1): \n",
    "    print(f\" {i}e pic du diffractogramme : \")\n",
    "    print(\"----------------------------\")\n",
    "    print(f\" angle du {i}e pic = {Dictionnaire['angles'][str(i)]}\")\n",
    "    print(f\" intensité du {i}e pic = {Dictionnaire['intensity'][str(i)]}\")\n",
    "    print(f\" indices hkl associés au {i}e pic = {Dictionnaire['plan de miller'][str(i)][0]['hkl']} de multiplicité : {Dictionnaire['plan de miller'][str(i)][0]['multiplicity']} \")\n",
    "    print(\"\\n\")\n",
    "    "
   ]
  },
  {
   "cell_type": "code",
   "execution_count": null,
   "id": "1167dc38",
   "metadata": {},
   "outputs": [],
   "source": [
    "\n"
   ]
  },
  {
   "cell_type": "code",
   "execution_count": null,
   "id": "d5130521",
   "metadata": {},
   "outputs": [],
   "source": []
  }
 ],
 "metadata": {
  "kernelspec": {
   "display_name": "Python 3 (ipykernel)",
   "language": "python",
   "name": "python3"
  },
  "language_info": {
   "codemirror_mode": {
    "name": "ipython",
    "version": 3
   },
   "file_extension": ".py",
   "mimetype": "text/x-python",
   "name": "python",
   "nbconvert_exporter": "python",
   "pygments_lexer": "ipython3",
   "version": "3.9.13"
  }
 },
 "nbformat": 4,
 "nbformat_minor": 5
}
